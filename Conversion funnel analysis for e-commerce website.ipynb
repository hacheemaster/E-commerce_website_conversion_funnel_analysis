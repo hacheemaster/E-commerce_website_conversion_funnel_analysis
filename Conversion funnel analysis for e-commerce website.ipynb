{
 "cells": [
  {
   "cell_type": "markdown",
   "metadata": {},
   "source": [
    "**GOAL:** Explore conversion funnel of e-commerce website in order to suggest ways of improving the conversion rate."
   ]
  },
  {
   "cell_type": "code",
   "execution_count": 1,
   "metadata": {},
   "outputs": [],
   "source": [
    "import matplotlib.pyplot as plt\n",
    "\n",
    "%matplotlib inline"
   ]
  },
  {
   "cell_type": "code",
   "execution_count": null,
   "metadata": {},
   "outputs": [],
   "source": [
    "import plotly.offline as py\n",
    "py.init_notebook_mode()"
   ]
  },
  {
   "cell_type": "code",
   "execution_count": 3,
   "metadata": {},
   "outputs": [],
   "source": [
    "import os\n",
    "import plotly\n",
    "import numpy as np\n",
    "import pandas as pd"
   ]
  },
  {
   "cell_type": "markdown",
   "metadata": {},
   "source": [
    "1. Project Overview\n",
    "2. Load Data\n",
    "3. Clean Data & EDA \n",
    "4. Build Predictive Model\n",
    "5. Discussion"
   ]
  },
  {
   "cell_type": "markdown",
   "metadata": {},
   "source": [
    "# 1. Project Overview"
   ]
  },
  {
   "cell_type": "markdown",
   "metadata": {},
   "source": [
    "We are working with data from an e-commerce website. The site is very simple and has just 4 pages. The first page is the home page. When you come to the site for the first time, you can land on the home page. From the home page, the user can perform a search and land on the search page. From the search page, if the user clicks on a product, she will get to the payment page, where she is asked to provide payment information in order to buy that product. If she does decide to buy, she ends up on the confirmation page"
   ]
  },
  {
   "cell_type": "markdown",
   "metadata": {},
   "source": [
    "The company CEO isn't very happy with the volume of sales and, especially, of sales coming from new users. Therefore, we are tasked with investigating whether there is something wrong in the conversion funnel or, in general, if we can suggest how the conversion rate can be improved."
   ]
  },
  {
   "cell_type": "markdown",
   "metadata": {},
   "source": [
    "# 2. Load Data"
   ]
  },
  {
   "cell_type": "markdown",
   "metadata": {},
   "source": [
    "[Download data](https://www.kaggle.com/aerodinamicc/ecommerce-website-funnel-analysis):\n",
    "* home_page_table.csv\n",
    "* search_page_table.csv\n",
    "* payment_page_table.csv\n",
    "* payment_confirmation_table.csv\n",
    "* user_table.csv"
   ]
  },
  {
   "cell_type": "code",
   "execution_count": 4,
   "metadata": {},
   "outputs": [],
   "source": [
    "df_home_page = pd.read_csv('home_page_table.csv')\n",
    "df_search_page = pd.read_csv('search_page_table.csv')\n",
    "df_payment_page = pd.read_csv('payment_page_table.csv')\n",
    "df_payment_confirmation_page = pd.read_csv('payment_confirmation_table.csv')\n",
    "df_user_table = pd.read_csv('user_table.csv')"
   ]
  },
  {
   "cell_type": "code",
   "execution_count": 5,
   "metadata": {},
   "outputs": [],
   "source": [
    "datasets = [df_user_table, df_home_page, df_search_page, df_payment_page, df_payment_confirmation_page]"
   ]
  },
  {
   "cell_type": "code",
   "execution_count": 6,
   "metadata": {},
   "outputs": [
    {
     "data": {
      "text/html": [
       "<div>\n",
       "<style scoped>\n",
       "    .dataframe tbody tr th:only-of-type {\n",
       "        vertical-align: middle;\n",
       "    }\n",
       "\n",
       "    .dataframe tbody tr th {\n",
       "        vertical-align: top;\n",
       "    }\n",
       "\n",
       "    .dataframe thead th {\n",
       "        text-align: right;\n",
       "    }\n",
       "</style>\n",
       "<table border=\"1\" class=\"dataframe\">\n",
       "  <thead>\n",
       "    <tr style=\"text-align: right;\">\n",
       "      <th></th>\n",
       "      <th>user_id</th>\n",
       "      <th>page</th>\n",
       "    </tr>\n",
       "  </thead>\n",
       "  <tbody>\n",
       "    <tr>\n",
       "      <th>0</th>\n",
       "      <td>313593</td>\n",
       "      <td>home_page</td>\n",
       "    </tr>\n",
       "    <tr>\n",
       "      <th>1</th>\n",
       "      <td>468315</td>\n",
       "      <td>home_page</td>\n",
       "    </tr>\n",
       "    <tr>\n",
       "      <th>2</th>\n",
       "      <td>264005</td>\n",
       "      <td>home_page</td>\n",
       "    </tr>\n",
       "    <tr>\n",
       "      <th>3</th>\n",
       "      <td>290784</td>\n",
       "      <td>home_page</td>\n",
       "    </tr>\n",
       "    <tr>\n",
       "      <th>4</th>\n",
       "      <td>639104</td>\n",
       "      <td>home_page</td>\n",
       "    </tr>\n",
       "  </tbody>\n",
       "</table>\n",
       "</div>"
      ],
      "text/plain": [
       "   user_id       page\n",
       "0   313593  home_page\n",
       "1   468315  home_page\n",
       "2   264005  home_page\n",
       "3   290784  home_page\n",
       "4   639104  home_page"
      ]
     },
     "execution_count": 6,
     "metadata": {},
     "output_type": "execute_result"
    }
   ],
   "source": [
    "df_home_page.head()"
   ]
  },
  {
   "cell_type": "code",
   "execution_count": 7,
   "metadata": {},
   "outputs": [
    {
     "data": {
      "text/html": [
       "<div>\n",
       "<style scoped>\n",
       "    .dataframe tbody tr th:only-of-type {\n",
       "        vertical-align: middle;\n",
       "    }\n",
       "\n",
       "    .dataframe tbody tr th {\n",
       "        vertical-align: top;\n",
       "    }\n",
       "\n",
       "    .dataframe thead th {\n",
       "        text-align: right;\n",
       "    }\n",
       "</style>\n",
       "<table border=\"1\" class=\"dataframe\">\n",
       "  <thead>\n",
       "    <tr style=\"text-align: right;\">\n",
       "      <th></th>\n",
       "      <th>user_id</th>\n",
       "      <th>date</th>\n",
       "      <th>device</th>\n",
       "      <th>sex</th>\n",
       "    </tr>\n",
       "  </thead>\n",
       "  <tbody>\n",
       "    <tr>\n",
       "      <th>0</th>\n",
       "      <td>450007</td>\n",
       "      <td>2015-02-28</td>\n",
       "      <td>Desktop</td>\n",
       "      <td>Female</td>\n",
       "    </tr>\n",
       "    <tr>\n",
       "      <th>1</th>\n",
       "      <td>756838</td>\n",
       "      <td>2015-01-13</td>\n",
       "      <td>Desktop</td>\n",
       "      <td>Male</td>\n",
       "    </tr>\n",
       "    <tr>\n",
       "      <th>2</th>\n",
       "      <td>568983</td>\n",
       "      <td>2015-04-09</td>\n",
       "      <td>Desktop</td>\n",
       "      <td>Male</td>\n",
       "    </tr>\n",
       "    <tr>\n",
       "      <th>3</th>\n",
       "      <td>190794</td>\n",
       "      <td>2015-02-18</td>\n",
       "      <td>Desktop</td>\n",
       "      <td>Female</td>\n",
       "    </tr>\n",
       "    <tr>\n",
       "      <th>4</th>\n",
       "      <td>537909</td>\n",
       "      <td>2015-01-15</td>\n",
       "      <td>Desktop</td>\n",
       "      <td>Male</td>\n",
       "    </tr>\n",
       "  </tbody>\n",
       "</table>\n",
       "</div>"
      ],
      "text/plain": [
       "   user_id        date   device     sex\n",
       "0   450007  2015-02-28  Desktop  Female\n",
       "1   756838  2015-01-13  Desktop    Male\n",
       "2   568983  2015-04-09  Desktop    Male\n",
       "3   190794  2015-02-18  Desktop  Female\n",
       "4   537909  2015-01-15  Desktop    Male"
      ]
     },
     "execution_count": 7,
     "metadata": {},
     "output_type": "execute_result"
    }
   ],
   "source": [
    "df_user_table.head()"
   ]
  },
  {
   "cell_type": "markdown",
   "metadata": {},
   "source": [
    "For every page, the respective csv contains a list of user_id's that visited that page and a categorical column called page. The user table contains information about the date the user accessed the website as well as the gender and device used."
   ]
  },
  {
   "cell_type": "markdown",
   "metadata": {},
   "source": [
    "# 3. Clean Data & EDA"
   ]
  },
  {
   "cell_type": "markdown",
   "metadata": {},
   "source": [
    "For each variable:\n",
    "* Check missing %"
   ]
  },
  {
   "cell_type": "code",
   "execution_count": 8,
   "metadata": {},
   "outputs": [],
   "source": [
    "def namestr(obj, namespace):\n",
    "    return [name for name in namespace if namespace[name] is obj]"
   ]
  },
  {
   "cell_type": "code",
   "execution_count": 9,
   "metadata": {},
   "outputs": [
    {
     "name": "stdout",
     "output_type": "stream",
     "text": [
      "Percent Missing:  \n",
      "\n",
      "df_user_table\n",
      "user_id    0.0\n",
      "date       0.0\n",
      "device     0.0\n",
      "sex        0.0\n",
      "dtype: float64 \n",
      "\n",
      "df_home_page\n",
      "user_id    0.0\n",
      "page       0.0\n",
      "dtype: float64 \n",
      "\n",
      "df_search_page\n",
      "user_id    0.0\n",
      "page       0.0\n",
      "dtype: float64 \n",
      "\n",
      "df_payment_page\n",
      "user_id    0.0\n",
      "page       0.0\n",
      "dtype: float64 \n",
      "\n",
      "df_payment_confirmation_page\n",
      "user_id    0.0\n",
      "page       0.0\n",
      "dtype: float64 \n",
      "\n"
     ]
    }
   ],
   "source": [
    "print(\"Percent Missing: \",\"\\n\")\n",
    "\n",
    "for df in datasets:\n",
    "    print(namestr(df, globals())[0])\n",
    "    print(df.isnull().sum()/len(df) * 100, '\\n')"
   ]
  },
  {
   "cell_type": "markdown",
   "metadata": {},
   "source": [
    "We are lucky and don't have any missing values for this dataset."
   ]
  },
  {
   "cell_type": "markdown",
   "metadata": {},
   "source": [
    "* Look for outliers"
   ]
  },
  {
   "cell_type": "code",
   "execution_count": 10,
   "metadata": {},
   "outputs": [
    {
     "name": "stdout",
     "output_type": "stream",
     "text": [
      "df_user_table\n",
      "             user_id\n",
      "count   90400.000000\n",
      "mean   498709.683473\n",
      "std    289040.674085\n",
      "min        17.000000\n",
      "25%    247978.750000\n",
      "50%    498267.000000\n",
      "75%    749789.250000\n",
      "max    999979.000000 \n",
      "\n",
      "df_home_page\n",
      "             user_id\n",
      "count   90400.000000\n",
      "mean   498709.683473\n",
      "std    289040.674085\n",
      "min        17.000000\n",
      "25%    247978.750000\n",
      "50%    498267.000000\n",
      "75%    749789.250000\n",
      "max    999979.000000 \n",
      "\n",
      "df_search_page\n",
      "             user_id\n",
      "count   45200.000000\n",
      "mean   498423.147655\n",
      "std    288370.781395\n",
      "min        17.000000\n",
      "25%    248931.750000\n",
      "50%    496500.500000\n",
      "75%    748352.000000\n",
      "max    999928.000000 \n",
      "\n",
      "df_payment_page\n",
      "             user_id\n",
      "count    6030.000000\n",
      "mean   495136.066003\n",
      "std    288022.646252\n",
      "min        38.000000\n",
      "25%    247135.500000\n",
      "50%    494084.000000\n",
      "75%    745352.000000\n",
      "max    999896.000000 \n",
      "\n",
      "df_payment_confirmation_page\n",
      "             user_id\n",
      "count     452.000000\n",
      "mean   477639.798673\n",
      "std    274527.225478\n",
      "min      4561.000000\n",
      "25%    255701.250000\n",
      "50%    459776.500000\n",
      "75%    712288.000000\n",
      "max    999315.000000 \n",
      "\n"
     ]
    }
   ],
   "source": [
    "for df in datasets:\n",
    "    print(namestr(df,globals())[0])\n",
    "    print(df.describe(),'\\n')"
   ]
  },
  {
   "cell_type": "markdown",
   "metadata": {},
   "source": [
    "Observations: \n",
    "* We start with 90,400 customers that visit the home page. \n",
    "* 45,200 land on the search page. \n",
    "* 6,030 proceed to the payment page. \n",
    "* Only 452 reach the payment confirmation page. "
   ]
  },
  {
   "cell_type": "markdown",
   "metadata": {},
   "source": [
    "Let's join the page someone visited back onto the user table."
   ]
  },
  {
   "cell_type": "code",
   "execution_count": 11,
   "metadata": {
    "scrolled": true
   },
   "outputs": [],
   "source": [
    "for i,df in enumerate(datasets): \n",
    "    #first df is the user table\n",
    "    df_name = namestr(df, globals())[0]\n",
    "    if i==0:\n",
    "        df_merged = df\n",
    "    else:\n",
    "        df_merged = pd.merge(df_merged,df,how='left',on='user_id',\n",
    "                             suffixes=('','_'+df_name))"
   ]
  },
  {
   "cell_type": "code",
   "execution_count": 12,
   "metadata": {},
   "outputs": [],
   "source": [
    "df_merged.fillna('churn',inplace=True)"
   ]
  },
  {
   "cell_type": "code",
   "execution_count": 13,
   "metadata": {},
   "outputs": [
    {
     "data": {
      "text/html": [
       "<div>\n",
       "<style scoped>\n",
       "    .dataframe tbody tr th:only-of-type {\n",
       "        vertical-align: middle;\n",
       "    }\n",
       "\n",
       "    .dataframe tbody tr th {\n",
       "        vertical-align: top;\n",
       "    }\n",
       "\n",
       "    .dataframe thead th {\n",
       "        text-align: right;\n",
       "    }\n",
       "</style>\n",
       "<table border=\"1\" class=\"dataframe\">\n",
       "  <thead>\n",
       "    <tr style=\"text-align: right;\">\n",
       "      <th></th>\n",
       "      <th>user_id</th>\n",
       "      <th>date</th>\n",
       "      <th>device</th>\n",
       "      <th>sex</th>\n",
       "      <th>page</th>\n",
       "      <th>page_df_search_page</th>\n",
       "      <th>page_df_payment_page</th>\n",
       "      <th>page_df_payment_confirmation_page</th>\n",
       "    </tr>\n",
       "  </thead>\n",
       "  <tbody>\n",
       "    <tr>\n",
       "      <th>0</th>\n",
       "      <td>450007</td>\n",
       "      <td>2015-02-28</td>\n",
       "      <td>Desktop</td>\n",
       "      <td>Female</td>\n",
       "      <td>home_page</td>\n",
       "      <td>churn</td>\n",
       "      <td>churn</td>\n",
       "      <td>churn</td>\n",
       "    </tr>\n",
       "    <tr>\n",
       "      <th>1</th>\n",
       "      <td>756838</td>\n",
       "      <td>2015-01-13</td>\n",
       "      <td>Desktop</td>\n",
       "      <td>Male</td>\n",
       "      <td>home_page</td>\n",
       "      <td>churn</td>\n",
       "      <td>churn</td>\n",
       "      <td>churn</td>\n",
       "    </tr>\n",
       "    <tr>\n",
       "      <th>2</th>\n",
       "      <td>568983</td>\n",
       "      <td>2015-04-09</td>\n",
       "      <td>Desktop</td>\n",
       "      <td>Male</td>\n",
       "      <td>home_page</td>\n",
       "      <td>search_page</td>\n",
       "      <td>churn</td>\n",
       "      <td>churn</td>\n",
       "    </tr>\n",
       "    <tr>\n",
       "      <th>3</th>\n",
       "      <td>190794</td>\n",
       "      <td>2015-02-18</td>\n",
       "      <td>Desktop</td>\n",
       "      <td>Female</td>\n",
       "      <td>home_page</td>\n",
       "      <td>search_page</td>\n",
       "      <td>churn</td>\n",
       "      <td>churn</td>\n",
       "    </tr>\n",
       "    <tr>\n",
       "      <th>4</th>\n",
       "      <td>537909</td>\n",
       "      <td>2015-01-15</td>\n",
       "      <td>Desktop</td>\n",
       "      <td>Male</td>\n",
       "      <td>home_page</td>\n",
       "      <td>churn</td>\n",
       "      <td>churn</td>\n",
       "      <td>churn</td>\n",
       "    </tr>\n",
       "  </tbody>\n",
       "</table>\n",
       "</div>"
      ],
      "text/plain": [
       "   user_id        date   device     sex       page page_df_search_page  \\\n",
       "0   450007  2015-02-28  Desktop  Female  home_page               churn   \n",
       "1   756838  2015-01-13  Desktop    Male  home_page               churn   \n",
       "2   568983  2015-04-09  Desktop    Male  home_page         search_page   \n",
       "3   190794  2015-02-18  Desktop  Female  home_page         search_page   \n",
       "4   537909  2015-01-15  Desktop    Male  home_page               churn   \n",
       "\n",
       "  page_df_payment_page page_df_payment_confirmation_page  \n",
       "0                churn                             churn  \n",
       "1                churn                             churn  \n",
       "2                churn                             churn  \n",
       "3                churn                             churn  \n",
       "4                churn                             churn  "
      ]
     },
     "execution_count": 13,
     "metadata": {},
     "output_type": "execute_result"
    }
   ],
   "source": [
    "df_merged.head()"
   ]
  },
  {
   "cell_type": "code",
   "execution_count": 14,
   "metadata": {},
   "outputs": [],
   "source": [
    "columns = ['user_id','date','device','sex','home','search','payment','payment_confirmation']\n",
    "pages = columns[4:]"
   ]
  },
  {
   "cell_type": "code",
   "execution_count": 15,
   "metadata": {},
   "outputs": [],
   "source": [
    "df_merged.columns = columns"
   ]
  },
  {
   "cell_type": "markdown",
   "metadata": {},
   "source": [
    "Let's define a helper function. It will take in a dataframe as well as column name and output the frequency of each value of that column. "
   ]
  },
  {
   "cell_type": "code",
   "execution_count": 16,
   "metadata": {},
   "outputs": [],
   "source": [
    "def check_distribution(df,col):\n",
    "    counts = df[col].value_counts(dropna=False)\n",
    "    percentages = counts / len(df) * 100\n",
    "    df_percentages = pd.DataFrame({col:percentages.index.values,'count':counts.values,'percent':percentages.values})\n",
    "    return df_percentages"
   ]
  },
  {
   "cell_type": "markdown",
   "metadata": {},
   "source": [
    "## Visit Counts by Page"
   ]
  },
  {
   "cell_type": "markdown",
   "metadata": {},
   "source": [
    "Let's create a sankey diagram to view the flow of customers in the pipeline."
   ]
  },
  {
   "cell_type": "code",
   "execution_count": 88,
   "metadata": {},
   "outputs": [],
   "source": [
    "sankey_columns = ['from','to','count']\n",
    "df_sankey = pd.DataFrame(columns=sankey_columns)\n",
    "combos = len(pages) - 1 #total number of sankey source-target combos\n",
    "for combo in range(combos):\n",
    "    cols = pages[combo:combo+2]\n",
    "    df_temp = df_merged.groupby(cols,as_index=False)[['user_id']].count()\n",
    "    df_temp.columns = sankey_columns\n",
    "    df_sankey = pd.concat([df_sankey,df_temp]) \n",
    "    \n",
    "#remove churn-churn flow \n",
    "df_sankey = df_sankey[df_sankey['from'] != 'churn'] \n",
    "df_sankey['color'] = ['white','lawngreen','white','lawngreen','white','lawngreen']\n",
    "\n",
    "#'from' and 'to' need to be ints for sankey. Create dictionary to map them to distinct ints\n",
    "sankey_groups = {'home_page':0,'search_page':1,'payment_page':2,'payment_confirmation_page':3,'churn':4}\n",
    "df_sankey['from_group'] = df_sankey['from'].apply(lambda x: sankey_groups.get(x))\n",
    "df_sankey['to_group'] = df_sankey['to'].apply(lambda x: sankey_groups.get(x))"
   ]
  },
  {
   "cell_type": "code",
   "execution_count": 89,
   "metadata": {},
   "outputs": [
    {
     "data": {
      "text/html": [
       "<div>\n",
       "<style scoped>\n",
       "    .dataframe tbody tr th:only-of-type {\n",
       "        vertical-align: middle;\n",
       "    }\n",
       "\n",
       "    .dataframe tbody tr th {\n",
       "        vertical-align: top;\n",
       "    }\n",
       "\n",
       "    .dataframe thead th {\n",
       "        text-align: right;\n",
       "    }\n",
       "</style>\n",
       "<table border=\"1\" class=\"dataframe\">\n",
       "  <thead>\n",
       "    <tr style=\"text-align: right;\">\n",
       "      <th></th>\n",
       "      <th>from</th>\n",
       "      <th>to</th>\n",
       "      <th>count</th>\n",
       "      <th>color</th>\n",
       "      <th>from_group</th>\n",
       "      <th>to_group</th>\n",
       "    </tr>\n",
       "  </thead>\n",
       "  <tbody>\n",
       "    <tr>\n",
       "      <th>0</th>\n",
       "      <td>home_page</td>\n",
       "      <td>churn</td>\n",
       "      <td>45200</td>\n",
       "      <td>white</td>\n",
       "      <td>0</td>\n",
       "      <td>4</td>\n",
       "    </tr>\n",
       "    <tr>\n",
       "      <th>1</th>\n",
       "      <td>home_page</td>\n",
       "      <td>search_page</td>\n",
       "      <td>45200</td>\n",
       "      <td>lawngreen</td>\n",
       "      <td>0</td>\n",
       "      <td>1</td>\n",
       "    </tr>\n",
       "    <tr>\n",
       "      <th>1</th>\n",
       "      <td>search_page</td>\n",
       "      <td>churn</td>\n",
       "      <td>39170</td>\n",
       "      <td>white</td>\n",
       "      <td>1</td>\n",
       "      <td>4</td>\n",
       "    </tr>\n",
       "    <tr>\n",
       "      <th>2</th>\n",
       "      <td>search_page</td>\n",
       "      <td>payment_page</td>\n",
       "      <td>6030</td>\n",
       "      <td>lawngreen</td>\n",
       "      <td>1</td>\n",
       "      <td>2</td>\n",
       "    </tr>\n",
       "    <tr>\n",
       "      <th>1</th>\n",
       "      <td>payment_page</td>\n",
       "      <td>churn</td>\n",
       "      <td>5578</td>\n",
       "      <td>white</td>\n",
       "      <td>2</td>\n",
       "      <td>4</td>\n",
       "    </tr>\n",
       "    <tr>\n",
       "      <th>2</th>\n",
       "      <td>payment_page</td>\n",
       "      <td>payment_confirmation_page</td>\n",
       "      <td>452</td>\n",
       "      <td>lawngreen</td>\n",
       "      <td>2</td>\n",
       "      <td>3</td>\n",
       "    </tr>\n",
       "  </tbody>\n",
       "</table>\n",
       "</div>"
      ],
      "text/plain": [
       "           from                         to  count      color  from_group  \\\n",
       "0     home_page                      churn  45200      white           0   \n",
       "1     home_page                search_page  45200  lawngreen           0   \n",
       "1   search_page                      churn  39170      white           1   \n",
       "2   search_page               payment_page   6030  lawngreen           1   \n",
       "1  payment_page                      churn   5578      white           2   \n",
       "2  payment_page  payment_confirmation_page    452  lawngreen           2   \n",
       "\n",
       "   to_group  \n",
       "0         4  \n",
       "1         1  \n",
       "1         4  \n",
       "2         2  \n",
       "1         4  \n",
       "2         3  "
      ]
     },
     "execution_count": 89,
     "metadata": {},
     "output_type": "execute_result"
    }
   ],
   "source": [
    "df_sankey"
   ]
  },
  {
   "cell_type": "code",
   "execution_count": 90,
   "metadata": {},
   "outputs": [],
   "source": [
    "df_sankey_grouped = df_sankey.groupby('from', as_index=False)[['count']].sum()"
   ]
  },
  {
   "cell_type": "code",
   "execution_count": 91,
   "metadata": {},
   "outputs": [
    {
     "data": {
      "text/html": [
       "<div>\n",
       "<style scoped>\n",
       "    .dataframe tbody tr th:only-of-type {\n",
       "        vertical-align: middle;\n",
       "    }\n",
       "\n",
       "    .dataframe tbody tr th {\n",
       "        vertical-align: top;\n",
       "    }\n",
       "\n",
       "    .dataframe thead th {\n",
       "        text-align: right;\n",
       "    }\n",
       "</style>\n",
       "<table border=\"1\" class=\"dataframe\">\n",
       "  <thead>\n",
       "    <tr style=\"text-align: right;\">\n",
       "      <th></th>\n",
       "      <th>from</th>\n",
       "      <th>to</th>\n",
       "      <th>count</th>\n",
       "      <th>color</th>\n",
       "      <th>from_group</th>\n",
       "      <th>to_group</th>\n",
       "      <th>count_from_total</th>\n",
       "      <th>count_from_pct</th>\n",
       "    </tr>\n",
       "  </thead>\n",
       "  <tbody>\n",
       "    <tr>\n",
       "      <th>0</th>\n",
       "      <td>home_page</td>\n",
       "      <td>churn</td>\n",
       "      <td>45200</td>\n",
       "      <td>white</td>\n",
       "      <td>0</td>\n",
       "      <td>4</td>\n",
       "      <td>90400</td>\n",
       "      <td>50</td>\n",
       "    </tr>\n",
       "    <tr>\n",
       "      <th>1</th>\n",
       "      <td>home_page</td>\n",
       "      <td>search_page</td>\n",
       "      <td>45200</td>\n",
       "      <td>lawngreen</td>\n",
       "      <td>0</td>\n",
       "      <td>1</td>\n",
       "      <td>90400</td>\n",
       "      <td>50</td>\n",
       "    </tr>\n",
       "    <tr>\n",
       "      <th>2</th>\n",
       "      <td>search_page</td>\n",
       "      <td>churn</td>\n",
       "      <td>39170</td>\n",
       "      <td>white</td>\n",
       "      <td>1</td>\n",
       "      <td>4</td>\n",
       "      <td>45200</td>\n",
       "      <td>86.6593</td>\n",
       "    </tr>\n",
       "    <tr>\n",
       "      <th>3</th>\n",
       "      <td>search_page</td>\n",
       "      <td>payment_page</td>\n",
       "      <td>6030</td>\n",
       "      <td>lawngreen</td>\n",
       "      <td>1</td>\n",
       "      <td>2</td>\n",
       "      <td>45200</td>\n",
       "      <td>13.3407</td>\n",
       "    </tr>\n",
       "    <tr>\n",
       "      <th>4</th>\n",
       "      <td>payment_page</td>\n",
       "      <td>churn</td>\n",
       "      <td>5578</td>\n",
       "      <td>white</td>\n",
       "      <td>2</td>\n",
       "      <td>4</td>\n",
       "      <td>6030</td>\n",
       "      <td>92.5041</td>\n",
       "    </tr>\n",
       "    <tr>\n",
       "      <th>5</th>\n",
       "      <td>payment_page</td>\n",
       "      <td>payment_confirmation_page</td>\n",
       "      <td>452</td>\n",
       "      <td>lawngreen</td>\n",
       "      <td>2</td>\n",
       "      <td>3</td>\n",
       "      <td>6030</td>\n",
       "      <td>7.49585</td>\n",
       "    </tr>\n",
       "  </tbody>\n",
       "</table>\n",
       "</div>"
      ],
      "text/plain": [
       "           from                         to  count      color  from_group  \\\n",
       "0     home_page                      churn  45200      white           0   \n",
       "1     home_page                search_page  45200  lawngreen           0   \n",
       "2   search_page                      churn  39170      white           1   \n",
       "3   search_page               payment_page   6030  lawngreen           1   \n",
       "4  payment_page                      churn   5578      white           2   \n",
       "5  payment_page  payment_confirmation_page    452  lawngreen           2   \n",
       "\n",
       "   to_group  count_from_total count_from_pct  \n",
       "0         4             90400             50  \n",
       "1         1             90400             50  \n",
       "2         4             45200        86.6593  \n",
       "3         2             45200        13.3407  \n",
       "4         4              6030        92.5041  \n",
       "5         3              6030        7.49585  "
      ]
     },
     "execution_count": 91,
     "metadata": {},
     "output_type": "execute_result"
    }
   ],
   "source": [
    "df_sankey = pd.merge(df_sankey, df_sankey_grouped, how='left', on='from',suffixes=('','_from_total'))\n",
    "df_sankey['count_from_pct'] = df_sankey['count']/df_sankey['count_from_total'] * 100\n",
    "df_sankey"
   ]
  },
  {
   "cell_type": "code",
   "execution_count": 67,
   "metadata": {},
   "outputs": [],
   "source": [
    "##might need to set credentials to view plotly offline\n",
    "#plotly.tools.set_credentials_file(username='hacheemaster', api_key='ob5Cx3BlxHPXQWQ7KCEj')"
   ]
  },
  {
   "cell_type": "code",
   "execution_count": 96,
   "metadata": {
    "scrolled": false
   },
   "outputs": [
    {
     "data": {
      "application/vnd.plotly.v1+json": {
       "config": {
        "linkText": "Export to plot.ly",
        "plotlyServerURL": "https://plot.ly",
        "showLink": true
       },
       "data": [
        {
         "domain": {
          "x": [
           0,
           1
          ],
          "y": [
           0,
           1
          ]
         },
         "link": {
          "color": [
           "white",
           "lawngreen",
           "white",
           "lawngreen",
           "white",
           "lawngreen"
          ],
          "source": [
           0,
           0,
           1,
           1,
           2,
           2
          ],
          "target": [
           4,
           1,
           4,
           2,
           4,
           3
          ],
          "value": [
           45200,
           45200,
           39170,
           6030,
           5578,
           452
          ]
         },
         "node": {
          "label": [
           "home",
           "search",
           "payment",
           "payment_confirmation"
          ],
          "line": {
           "color": "black",
           "width": 0.5
          },
          "pad": 10,
          "thickness": 30
         },
         "orientation": "h",
         "type": "sankey",
         "valueformat": ".0f"
        }
       ],
       "layout": {
        "font": {
         "size": 18
        },
        "height": 772,
        "title": "Customer Flow through e-commerce website",
        "width": 950
       }
      },
      "text/html": [
       "<div id=\"73009340-a6ea-4d35-aedf-94ad0e434bc4\" style=\"height: 772px; width: 950px;\" class=\"plotly-graph-div\"></div><script type=\"text/javascript\">require([\"plotly\"], function(Plotly) { window.PLOTLYENV=window.PLOTLYENV || {};window.PLOTLYENV.BASE_URL=\"https://plot.ly\";Plotly.newPlot(\"73009340-a6ea-4d35-aedf-94ad0e434bc4\", [{\"type\": \"sankey\", \"domain\": {\"x\": [0, 1], \"y\": [0, 1]}, \"orientation\": \"h\", \"valueformat\": \".0f\", \"node\": {\"pad\": 10, \"thickness\": 30, \"line\": {\"color\": \"black\", \"width\": 0.5}, \"label\": [\"home\", \"search\", \"payment\", \"payment_confirmation\"]}, \"link\": {\"source\": [0, 0, 1, 1, 2, 2], \"target\": [4, 1, 4, 2, 4, 3], \"value\": [45200, 45200, 39170, 6030, 5578, 452], \"color\": [\"white\", \"lawngreen\", \"white\", \"lawngreen\", \"white\", \"lawngreen\"]}}], {\"title\": \"Customer Flow through e-commerce website\", \"height\": 772, \"width\": 950, \"font\": {\"size\": 18}}, {\"showLink\": true, \"linkText\": \"Export to plot.ly\", \"plotlyServerURL\": \"https://plot.ly\"})});</script>"
      ],
      "text/vnd.plotly.v1+html": [
       "<div id=\"73009340-a6ea-4d35-aedf-94ad0e434bc4\" style=\"height: 772px; width: 950px;\" class=\"plotly-graph-div\"></div><script type=\"text/javascript\">require([\"plotly\"], function(Plotly) { window.PLOTLYENV=window.PLOTLYENV || {};window.PLOTLYENV.BASE_URL=\"https://plot.ly\";Plotly.newPlot(\"73009340-a6ea-4d35-aedf-94ad0e434bc4\", [{\"type\": \"sankey\", \"domain\": {\"x\": [0, 1], \"y\": [0, 1]}, \"orientation\": \"h\", \"valueformat\": \".0f\", \"node\": {\"pad\": 10, \"thickness\": 30, \"line\": {\"color\": \"black\", \"width\": 0.5}, \"label\": [\"home\", \"search\", \"payment\", \"payment_confirmation\"]}, \"link\": {\"source\": [0, 0, 1, 1, 2, 2], \"target\": [4, 1, 4, 2, 4, 3], \"value\": [45200, 45200, 39170, 6030, 5578, 452], \"color\": [\"white\", \"lawngreen\", \"white\", \"lawngreen\", \"white\", \"lawngreen\"]}}], {\"title\": \"Customer Flow through e-commerce website\", \"height\": 772, \"width\": 950, \"font\": {\"size\": 18}}, {\"showLink\": true, \"linkText\": \"Export to plot.ly\", \"plotlyServerURL\": \"https://plot.ly\"})});</script>"
      ]
     },
     "metadata": {},
     "output_type": "display_data"
    }
   ],
   "source": [
    "data_trace = dict(\n",
    "    type='sankey',\n",
    "    domain = dict(\n",
    "      x =  [0,1],\n",
    "      y =  [0,1]\n",
    "    ),\n",
    "    orientation = \"h\",\n",
    "    valueformat = \".0f\",\n",
    "    node = dict(\n",
    "      pad = 10,\n",
    "      thickness = 30,\n",
    "      line = dict(\n",
    "        color = \"black\",\n",
    "        width = 0.5\n",
    "      ),\n",
    "      label =  pages\n",
    "    ),\n",
    "    link = dict(\n",
    "      source = df_sankey['from_group'].dropna(axis=0, how='any'),\n",
    "      target = df_sankey['to_group'].dropna(axis=0, how='any'),\n",
    "      value = df_sankey['count'].dropna(axis=0, how='any'),\n",
    "      color = df_sankey['color']  \n",
    "  )\n",
    ")\n",
    "\n",
    "layout =  dict(\n",
    "    title = \"Customer Flow through e-commerce website\",\n",
    "    height = 772,\n",
    "    width = 950,\n",
    "    font = dict(\n",
    "      size = 18\n",
    "    ),    \n",
    ")\n",
    "\n",
    "\n",
    "fig = dict(data=[data_trace], layout=layout)\n",
    "py.iplot(fig, validate=False)"
   ]
  },
  {
   "cell_type": "markdown",
   "metadata": {},
   "source": [
    "Observations:\n",
    "* Home to Search : \n",
    "    * Conversion Rate: 50% \n",
    "    * From the sankey visualization we can see that we are doing a good job of converting customers from the home page to the search page. Ways in which we can improve conversion from home to search include **A/B testing** the _headline, Call To Action, logo,_ and _search and navigation bar_.\n",
    "* Search to Payment: \n",
    "    * Conversion Rate: 13%. \n",
    "    * We can improve our search algorithm by using better NLP methods to provide faster - 1d-CNNs as opposed to RNNs - and more accurate results. \n",
    "    * The auto-fill algorithm can be improved and tested to measure improvement.\n",
    "* Payment to Payment_Confirmation: \n",
    "    * Conversion Rate: 7.5%\n",
    "    * We can use a heatmap to see what parts of the screen the user spends the most time on to get better insight on what's detracting the user away from the payment_confirmation page. \n",
    "    * A/B test a variety of pages: a version with no **up-sells** and **cross-sells**, a version with up-selling and cross-selling, and a version showing similar products to the one being purchased. "
   ]
  },
  {
   "cell_type": "markdown",
   "metadata": {},
   "source": [
    "## Target: XXX"
   ]
  },
  {
   "cell_type": "code",
   "execution_count": 120,
   "metadata": {
    "scrolled": true
   },
   "outputs": [
    {
     "name": "stdout",
     "output_type": "stream",
     "text": [
      "        home  count  percent\n",
      "0  home_page  90400    100.0 \n",
      "\n",
      "        search  count  percent\n",
      "0  search_page  45200     50.0\n",
      "1          NaN  45200     50.0 \n",
      "\n",
      "        payment  count    percent\n",
      "0           NaN  84370  93.329646\n",
      "1  payment_page   6030   6.670354 \n",
      "\n",
      "        payment_confirmation  count  percent\n",
      "0                        NaN  89948     99.5\n",
      "1  payment_confirmation_page    452      0.5 \n",
      "\n"
     ]
    }
   ],
   "source": [
    "for page in pages:\n",
    "    print(check_distribution(df_merged,page),'\\n')"
   ]
  },
  {
   "cell_type": "code",
   "execution_count": null,
   "metadata": {},
   "outputs": [],
   "source": []
  },
  {
   "cell_type": "markdown",
   "metadata": {},
   "source": [
    "## Covariate 1"
   ]
  },
  {
   "cell_type": "code",
   "execution_count": null,
   "metadata": {},
   "outputs": [],
   "source": [
    "check_distribution(train,'')"
   ]
  },
  {
   "cell_type": "code",
   "execution_count": null,
   "metadata": {},
   "outputs": [],
   "source": []
  },
  {
   "cell_type": "markdown",
   "metadata": {},
   "source": [
    "## Covariate 2"
   ]
  },
  {
   "cell_type": "code",
   "execution_count": null,
   "metadata": {},
   "outputs": [],
   "source": [
    "check_distribution(train,'')"
   ]
  },
  {
   "cell_type": "code",
   "execution_count": null,
   "metadata": {},
   "outputs": [],
   "source": []
  },
  {
   "cell_type": "markdown",
   "metadata": {},
   "source": [
    "## Covariate 3"
   ]
  },
  {
   "cell_type": "code",
   "execution_count": null,
   "metadata": {},
   "outputs": [],
   "source": [
    "check_distribution(train,'')"
   ]
  },
  {
   "cell_type": "code",
   "execution_count": null,
   "metadata": {},
   "outputs": [],
   "source": []
  },
  {
   "cell_type": "markdown",
   "metadata": {},
   "source": [
    "# 4. Build Predictive Model"
   ]
  },
  {
   "cell_type": "code",
   "execution_count": null,
   "metadata": {},
   "outputs": [],
   "source": [
    "from sklearn import "
   ]
  },
  {
   "cell_type": "code",
   "execution_count": null,
   "metadata": {},
   "outputs": [],
   "source": []
  },
  {
   "cell_type": "markdown",
   "metadata": {},
   "source": [
    "# 5. Discussion"
   ]
  },
  {
   "cell_type": "code",
   "execution_count": null,
   "metadata": {},
   "outputs": [],
   "source": []
  }
 ],
 "metadata": {
  "kernelspec": {
   "display_name": "Python (nn_cv)",
   "language": "python",
   "name": "nn_cv"
  },
  "language_info": {
   "codemirror_mode": {
    "name": "ipython",
    "version": 3
   },
   "file_extension": ".py",
   "mimetype": "text/x-python",
   "name": "python",
   "nbconvert_exporter": "python",
   "pygments_lexer": "ipython3",
   "version": "3.6.7"
  }
 },
 "nbformat": 4,
 "nbformat_minor": 2
}
